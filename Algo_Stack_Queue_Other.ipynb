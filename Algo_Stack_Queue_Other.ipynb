{
 "cells": [
  {
   "cell_type": "markdown",
   "metadata": {
    "collapsed": true
   },
   "source": [
    "讨厌啊处理字符串，数字的\n",
    "* [402: Remove-K-Digits](https://leetcode.com/problems/remove-k-digits/)   "
   ]
  }
 ],
 "metadata": {
  "kernelspec": {
   "display_name": "Java",
   "language": "java",
   "name": "java"
  },
  "language_info": {
   "codemirror_mode": "java",
   "file_extension": ".jshell",
   "mimetype": "text/x-java-source",
   "name": "Java",
   "pygments_lexer": "java",
   "version": "12.0.1+12"
  }
 },
 "nbformat": 4,
 "nbformat_minor": 2
}
