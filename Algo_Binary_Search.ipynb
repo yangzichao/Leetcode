{
 "cells": [
  {
   "cell_type": "markdown",
   "metadata": {},
   "source": [
    "## Helper Functions"
   ]
  },
  {
   "cell_type": "code",
   "execution_count": 1,
   "metadata": {
    "collapsed": true
   },
   "outputs": [],
   "source": [
    "public interface BinarySearchFunction{\n",
    "    void binarySearch(int[] nums, int target);\n",
    "}\n",
    "\n",
    "public void ShowBSExamples(BinarySearchFunction func, int[] array, int[] targets) {\n",
    "    for(int target : targets){\n",
    "        func.binarySearch(array, target);\n",
    "    }\n",
    "}\n",
    "\n",
    "public void printBinary(int[] nums, int left, int right, int pivot, int target, boolean isFound) {\n",
    "    String upArrow = \"^\";\n",
    "    StringBuilder indexLine = new StringBuilder();\n",
    "    StringBuilder arrayLine = new StringBuilder();\n",
    "    StringBuilder pointerLine = new StringBuilder();\n",
    "    StringBuilder labelLine = new StringBuilder();\n",
    "    \n",
    "    for(int i = -1; i <= nums.length; i++){\n",
    "        \n",
    "        StringBuilder curIndex = new StringBuilder();\n",
    "        StringBuilder curArray = new StringBuilder();\n",
    "        StringBuilder curPointer = new StringBuilder();\n",
    "        StringBuilder curLabel = new StringBuilder();\n",
    "\n",
    "        String number = (i == - 1 || i == nums.length) ? \"null\":String.valueOf(nums[i]);\n",
    "        String index = (i == - 1 || i == nums.length) ? \"index\": String.valueOf(i);\n",
    "        \n",
    "        curIndex.append(\"[\" + index +\"] \");\n",
    "        curArray.append(\"[\" + number + \"] \");\n",
    "        \n",
    "        if( i == left || i == right || i == pivot) {\n",
    "            if( i == left) {\n",
    "                curPointer.append(upArrow);\n",
    "                curLabel.append(\"l\");\n",
    "            }\n",
    "            if( i == right) {\n",
    "                curPointer.append(upArrow);\n",
    "                curLabel.append(\"r\");\n",
    "            }\n",
    "            if( i == pivot ) {\n",
    "                curPointer.append(upArrow);\n",
    "                curLabel.append(\"p\");\n",
    "            }\n",
    "        }\n",
    "        \n",
    "       \n",
    "        for(int j = 0; j < number.length() - index.length(); j++ ) {\n",
    "             curIndex.append(\" \");\n",
    "        }\n",
    "        for(int j = 0; j < - number.length() + index.length(); j++ ) {\n",
    "             curArray.append(\" \");\n",
    "        }\n",
    "        int curSize = curPointer.length();\n",
    "        for(int j = 0; j < curIndex.length() - curSize; j++) {\n",
    "             curPointer.append(\" \");\n",
    "             curLabel.append(\" \");\n",
    "        }\n",
    "        \n",
    "        indexLine.append(curIndex.toString());\n",
    "        arrayLine.append(curArray.toString());\n",
    "        pointerLine.append(curPointer.toString());\n",
    "        labelLine.append(curLabel.toString());\n",
    "        \n",
    "    }\n",
    "    \n",
    "    String foundOrNot = isFound ? \"found.\" : \"not found.\";\n",
    "    String titleLine = \"We are looking for: \" + target + \", \" + foundOrNot;\n",
    "    System.out.println(titleLine);\n",
    "    System.out.println(indexLine.toString());\n",
    "    System.out.println(arrayLine.toString());\n",
    "    System.out.println(pointerLine.toString());\n",
    "    System.out.println(labelLine.toString());\n",
    "    System.out.println(\"\");\n",
    "}"
   ]
  },
  {
   "cell_type": "markdown",
   "metadata": {
    "collapsed": true
   },
   "source": [
    "## 二分查找 用例"
   ]
  },
  {
   "cell_type": "code",
   "execution_count": 2,
   "metadata": {
    "collapsed": true
   },
   "outputs": [],
   "source": [
    "int[] noDuplicateArray1 = new int[]{1,2,3,4,5,322,444};\n",
    "int[] noDuplicateTargets1 = new int[]{-1,0,1,443,444,445};\n",
    "int[] noDuplicateArray2 = new int[]{-1,-2,-3,-4,-5,-322,-444};\n",
    "int[] noDuplicateTargets2 = new int[]{-1,0,1,443,444,445};\n",
    "int[] noDuplicateCanFind1 = new int[]{1,2,444};\n",
    "int[] noDuplicateCannotFind1 = new int[]{-1,0,6,320,446};\n",
    "\n",
    "int[] duplicateArray1 = new int[]{0,1,2,2,2,2,2,4,5,777,888};\n",
    "int[] duplicataTargets1 = new int[]{2,1,0,-10,3,5,776,777,9999};\n",
    "int[] duplicataCanFind1 = new int[]{2,0,5,888};\n",
    "int[] duplicataCannotFind1= new int[]{-1,3,6,776,889};"
   ]
  },
  {
   "cell_type": "markdown",
   "metadata": {},
   "source": [
    "## 基础 LeetCode 题目, leetcode 复习组合拳\n",
    "总的来说，复习一下 162, 33, 81, 153, 154, 4, 658 就差不多了。\n",
    "\n",
    "### 毫无难度\n",
    "* [035: Search-Insert-Position](https://leetcode.com/problems/search-insert-position/)      \n",
    "* [704: Binary-Search](https://leetcode.com/problems/binary-search/)     \n",
    "* [374: Guess-Number-Higher-or-Lower](https://leetcode.com/problems/guess-number-higher-or-lower/)     \n",
    "* [278: First-Bad-Version](https://leetcode.com/problems/first-bad-version/)     \n",
    "\n",
    "### 几无难度\n",
    "* [069: Sqrt(x)](https://leetcode.com/problems/sqrtx/)           \n",
    "    这个题的特点是，sqrt(8) 需要返回 2. 按照我们的模板，left 是应当存在的位置，是 3，所以我们返回 right。   \n",
    "    * [367: Valid-Perfect-Square](https://leetcode.com/problems/valid-perfect-square/)         \n",
    "    367 和 69 一样，更没有难度了      \n",
    "* [050: Pow(x,-n)](https://leetcode.com/problems/powx-n/)     \n",
    "    50 其实都不算是个 binary search 了。 \n",
    "* [074: Search-a-2D-Matrix](https://leetcode.com/problems/search-a-2d-matrix/)    \n",
    "* [240: Search-a-2D-Matrix-II](https://leetcode.com/problems/search-a-2d-matrix-ii/)\n",
    "    240用binary search 不是最佳，但是和074放一起比较好。\n",
    "    \n",
    "### 有点难度\n",
    "* [034: Find-First-and-Last-Position-of-Element-in-Sorted-Array](https://leetcode.com/problems/find-first-and-last-position-of-element-in-sorted-array/)\n",
    "* [744: Find-Smallest-Letter-Greater-Than-Target](https://leetcode.com/problems/find-smallest-letter-greater-than-target/)   \n",
    "    744 是简化版的 34 题\n",
    "* [702: Search-in-a-Sorted-Array-of-Unknown-Size](https://leetcode.com/problems/search-in-a-sorted-array-of-unknown-size/)         \n",
    "    702 也是简化版的 34 题\n",
    "    \n",
    "    \n",
    " \n",
    "* [162: Find-Peak-Element](https://leetcode.com/problems/find-peak-element/)   \n",
    "* [852: Peak-Index-in-a-Mountain-Array](https://leetcode.com/problems/peak-index-in-a-mountain-array/)    \n",
    "\n",
    "    #### Rotated Sorted Array:\n",
    "* [033: Search-in-Rotated-Sorted-Array](https://leetcode.com/problems/search-in-rotated-sorted-array/)    \n",
    "* [081: Search-in-Rotated-Sorted-Array-II](https://leetcode.com/problems/search-in-rotated-sorted-array-ii/)  \n",
    "* [153: Find-Minimum-in-Rotated-Sorted-Array](https://leetcode.com/problems/find-minimum-in-rotated-sorted-array/)\n",
    "* [154: Find-Minimum-in-Rotated-Sorted-Array-II](https://leetcode.com/problems/find-minimum-in-rotated-sorted-array-ii/)\n",
    "\n",
    "[中文Leetcode 上对旋转排序数组的总结](https://leetcode-cn.com/problems/find-minimum-in-rotated-sorted-array-ii/solution/zong-jie-xuan-zhuan-shu-zu-ni-hui-fa-xian-dai-ma-d/)\n",
    "\n",
    "\n",
    "\n",
    "\n",
    "### 超级难\n",
    "* [004: Median-of-Two-Sorted-Arrays](https://leetcode.com/problems/median-of-two-sorted-arrays/)\n",
    "* [658: Find-K-Closest-Elements](https://leetcode.com/problems/find-k-closest-elements/)    \n",
    "* [378: Kth-Smallest-Element-in-a-Sorted-Matrix](https://leetcode.com/problems/kth-smallest-element-in-a-sorted-matrix/)      \n",
    "378 绝对是一道神题！太屌了！\n",
    "这都能binary search?    \n",
    "https://leetcode.com/problems/kth-smallest-element-in-a-sorted-matrix/discuss/85173/Share-my-thoughts-and-Clean-Java-Code\n",
    "\n",
    "### 跟Binary Search沾边的 dp\n",
    "* [410: Split-Array-Largest-Sum](https://leetcode.com/problems/split-array-largest-sum/)\n"
   ]
  },
  {
   "cell_type": "code",
   "execution_count": 8,
   "metadata": {
    "collapsed": true,
    "scrolled": true
   },
   "outputs": [],
   "source": [
    "String test = \"a/\";\n",
    "String[] res = test.split(\"/\");"
   ]
  },
  {
   "cell_type": "code",
   "execution_count": 9,
   "metadata": {},
   "outputs": [
    {
     "data": {
      "text/plain": [
       "1"
      ]
     },
     "execution_count": 9,
     "metadata": {},
     "output_type": "execute_result"
    }
   ],
   "source": [
    "res.length;"
   ]
  },
  {
   "cell_type": "markdown",
   "metadata": {},
   "source": [
    "首先，有序数组，没有重复的。如果找到的话，p的位置是对的位置，如果找不到，那么l的位置是应该存在的位置。"
   ]
  },
  {
   "cell_type": "code",
   "execution_count": 20,
   "metadata": {
    "collapsed": true
   },
   "outputs": [],
   "source": [
    "class BinaryTemplateOne implements BinarySearchFunction {\n",
    "    public void binarySearch(int[] nums, int target) {\n",
    "        if(nums.length < 1) return;\n",
    "        boolean isFound = false;\n",
    "        int left = 0;\n",
    "        int right = nums.length - 1;\n",
    "        int pivot = 0;\n",
    "        while(left <= right) {\n",
    "            pivot = left + (right - left)/2;\n",
    "            int num = nums[pivot];\n",
    "            if(num < target) {\n",
    "                left = pivot + 1;\n",
    "            }else if( num > target) {\n",
    "                right = pivot - 1;\n",
    "            }else{\n",
    "                isFound = true;\n",
    "//                 left = pivot + 1;\n",
    "//                 right = pivot - 1;\n",
    "                break;\n",
    "            }\n",
    "        }\n",
    "        // left 就是应该插入的位置，这也是Java Arrays.binarySearch 的实现。\n",
    "        printBinary(nums, left, right ,pivot, target, isFound);\n",
    "    }\n",
    "}"
   ]
  },
  {
   "cell_type": "code",
   "execution_count": 21,
   "metadata": {
    "scrolled": true
   },
   "outputs": [
    {
     "name": "stdout",
     "output_type": "stream",
     "text": [
      "We are looking for: 1, found.\n",
      "[index] [0] [1] [2] [3] [4] [5]   [6]   [index] \n",
      "[null]  [1] [2] [3] [4] [5] [322] [444] [null]  \n",
      "        ^^^                                     \n",
      "        lrp                                     \n",
      "\n",
      "We are looking for: 2, found.\n",
      "[index] [0] [1] [2] [3] [4] [5]   [6]   [index] \n",
      "[null]  [1] [2] [3] [4] [5] [322] [444] [null]  \n",
      "        ^   ^   ^                               \n",
      "        l   p   r                               \n",
      "\n",
      "We are looking for: 444, found.\n",
      "[index] [0] [1] [2] [3] [4] [5]   [6]   [index] \n",
      "[null]  [1] [2] [3] [4] [5] [322] [444] [null]  \n",
      "                                  ^^^           \n",
      "                                  lrp           \n",
      "\n"
     ]
    }
   ],
   "source": [
    "BinaryTemplateOne tempOne1 = new BinaryTemplateOne();\n",
    "// ShowBSExamples(tempOne1, noDuplicateArray1, noDuplicateCannotFind1);\n",
    "// ShowBSExamples(tempOne1, noDuplicateArray1, noDuplicateCannotFind1);\n",
    "ShowBSExamples(tempOne1, noDuplicateArray1, noDuplicateCanFind1)"
   ]
  },
  {
   "cell_type": "markdown",
   "metadata": {},
   "source": [
    "总结，下面的模板似乎可以用于存在重复的值的情况，只是判断一下 Left 。"
   ]
  },
  {
   "cell_type": "code",
   "execution_count": 17,
   "metadata": {
    "collapsed": true
   },
   "outputs": [],
   "source": [
    "class BinaryTemplateOneModify implements BinarySearchFunction {\n",
    "    public void binarySearch(int[] nums, int target) {\n",
    "        if(nums.length < 1) return;\n",
    "        boolean isFound = false;\n",
    "        int left = 0;\n",
    "        int right = nums.length - 1;\n",
    "        int pivot = 0;\n",
    "        while(left <= right) {\n",
    "            pivot = left + (right - left)/2;\n",
    "            int num = nums[pivot];\n",
    "            if(num < target) {\n",
    "                left = pivot + 1;\n",
    "            }else {\n",
    "                right = pivot - 1;\n",
    "            }\n",
    "        }\n",
    "        if(left > -1 && left < nums.length && nums[left] == target) isFound = true;\n",
    "        printBinary(nums, left, right ,pivot, target, isFound);\n",
    "    }\n",
    "}"
   ]
  },
  {
   "cell_type": "code",
   "execution_count": 19,
   "metadata": {},
   "outputs": [
    {
     "name": "stdout",
     "output_type": "stream",
     "text": [
      "We are looking for: -1, not found.\n",
      "[index] [0] [1] [2] [3] [4] [5]   [6]   [index] \n",
      "[null]  [1] [2] [3] [4] [5] [322] [444] [null]  \n",
      "^       ^^                                      \n",
      "r       lp                                      \n",
      "\n",
      "We are looking for: 0, not found.\n",
      "[index] [0] [1] [2] [3] [4] [5]   [6]   [index] \n",
      "[null]  [1] [2] [3] [4] [5] [322] [444] [null]  \n",
      "^       ^^                                      \n",
      "r       lp                                      \n",
      "\n",
      "We are looking for: 1, found.\n",
      "[index] [0] [1] [2] [3] [4] [5]   [6]   [index] \n",
      "[null]  [1] [2] [3] [4] [5] [322] [444] [null]  \n",
      "^       ^^                                      \n",
      "r       lp                                      \n",
      "\n",
      "We are looking for: 443, not found.\n",
      "[index] [0] [1] [2] [3] [4] [5]   [6]   [index] \n",
      "[null]  [1] [2] [3] [4] [5] [322] [444] [null]  \n",
      "                            ^     ^^            \n",
      "                            r     lp            \n",
      "\n",
      "We are looking for: 444, found.\n",
      "[index] [0] [1] [2] [3] [4] [5]   [6]   [index] \n",
      "[null]  [1] [2] [3] [4] [5] [322] [444] [null]  \n",
      "                            ^     ^^            \n",
      "                            r     lp            \n",
      "\n",
      "We are looking for: 445, not found.\n",
      "[index] [0] [1] [2] [3] [4] [5]   [6]   [index] \n",
      "[null]  [1] [2] [3] [4] [5] [322] [444] [null]  \n",
      "                                  ^^    ^       \n",
      "                                  rp    l       \n",
      "\n",
      "We are looking for: 2, found.\n",
      "[index] [0] [1] [2] [3] [4] [5] [6] [7] [8] [9]   [10]  [index] \n",
      "[null]  [0] [1] [2] [2] [2] [2] [2] [4] [5] [777] [888] [null]  \n",
      "            ^^  ^                                               \n",
      "            rp  l                                               \n",
      "\n",
      "We are looking for: 1, found.\n",
      "[index] [0] [1] [2] [3] [4] [5] [6] [7] [8] [9]   [10]  [index] \n",
      "[null]  [0] [1] [2] [2] [2] [2] [2] [4] [5] [777] [888] [null]  \n",
      "        ^   ^^                                                  \n",
      "        r   lp                                                  \n",
      "\n",
      "We are looking for: 0, found.\n",
      "[index] [0] [1] [2] [3] [4] [5] [6] [7] [8] [9]   [10]  [index] \n",
      "[null]  [0] [1] [2] [2] [2] [2] [2] [4] [5] [777] [888] [null]  \n",
      "^       ^^                                                      \n",
      "r       lp                                                      \n",
      "\n",
      "We are looking for: -10, not found.\n",
      "[index] [0] [1] [2] [3] [4] [5] [6] [7] [8] [9]   [10]  [index] \n",
      "[null]  [0] [1] [2] [2] [2] [2] [2] [4] [5] [777] [888] [null]  \n",
      "^       ^^                                                      \n",
      "r       lp                                                      \n",
      "\n",
      "We are looking for: 3, not found.\n",
      "[index] [0] [1] [2] [3] [4] [5] [6] [7] [8] [9]   [10]  [index] \n",
      "[null]  [0] [1] [2] [2] [2] [2] [2] [4] [5] [777] [888] [null]  \n",
      "                                ^   ^^                          \n",
      "                                r   lp                          \n",
      "\n",
      "We are looking for: 5, found.\n",
      "[index] [0] [1] [2] [3] [4] [5] [6] [7] [8] [9]   [10]  [index] \n",
      "[null]  [0] [1] [2] [2] [2] [2] [2] [4] [5] [777] [888] [null]  \n",
      "                                    ^^  ^                       \n",
      "                                    rp  l                       \n",
      "\n",
      "We are looking for: 776, not found.\n",
      "[index] [0] [1] [2] [3] [4] [5] [6] [7] [8] [9]   [10]  [index] \n",
      "[null]  [0] [1] [2] [2] [2] [2] [2] [4] [5] [777] [888] [null]  \n",
      "                                        ^   ^^                  \n",
      "                                        r   lp                  \n",
      "\n",
      "We are looking for: 777, found.\n",
      "[index] [0] [1] [2] [3] [4] [5] [6] [7] [8] [9]   [10]  [index] \n",
      "[null]  [0] [1] [2] [2] [2] [2] [2] [4] [5] [777] [888] [null]  \n",
      "                                        ^   ^^                  \n",
      "                                        r   lp                  \n",
      "\n",
      "We are looking for: 9999, not found.\n",
      "[index] [0] [1] [2] [3] [4] [5] [6] [7] [8] [9]   [10]  [index] \n",
      "[null]  [0] [1] [2] [2] [2] [2] [2] [4] [5] [777] [888] [null]  \n",
      "                                                  ^^    ^       \n",
      "                                                  rp    l       \n",
      "\n"
     ]
    }
   ],
   "source": [
    "ShowBSExamples(new BinaryTemplateOneModify(), noDuplicateArray1, noDuplicateTargets1);\n",
    "ShowBSExamples(new BinaryTemplateOneModify(), duplicateArray1, duplicataTargets1);"
   ]
  },
  {
   "cell_type": "markdown",
   "metadata": {},
   "source": [
    "其次，有序数组允许有重复的，"
   ]
  },
  {
   "cell_type": "code",
   "execution_count": 129,
   "metadata": {
    "collapsed": true
   },
   "outputs": [],
   "source": [
    "public void binaryHasDuplicateLeft(int[] nums, int target) {\n",
    "    if(nums.length < 1) return;\n",
    "  //  int left = 0;\n",
    " //   int right = nums.length - 1;\n",
    "    int left = -1;\n",
    "    int right = nums.length;\n",
    "    int pivot = 0;\n",
    "    while(left < right) {\n",
    "        pivot = left + (right - left)/2;\n",
    "        int num = 0;\n",
    "        if(pivot < 0) num = Integer.MIN_VALUE;\n",
    "        else if(pivot >= nums.length) num = Integer.MAX_VALUE;\n",
    "        else num = nums[pivot];\n",
    "        if(num < target) {\n",
    "            left = pivot + 1;\n",
    "        }else {\n",
    "            right = pivot;\n",
    "        }\n",
    "    }\n",
    "    printBinary(nums, left, right ,pivot);\n",
    "}\n",
    "\n",
    "public void binaryHasDuplicateRight(int[] nums, int target) {\n",
    "    if(nums.length < 1) return;\n",
    "    int left = 0;\n",
    "    int right = nums.length - 1;\n",
    "    int pivot = 0;\n",
    "    while(left < right) {\n",
    "        pivot = left + (right - left)/2;\n",
    "        int num = nums[pivot];\n",
    "        if(num < target) {\n",
    "            left = pivot + 1;\n",
    "        }else {\n",
    "            right = pivot;\n",
    "            break;\n",
    "        }\n",
    "    }\n",
    "    printBinary(nums, left, right ,pivot);\n",
    "}"
   ]
  },
  {
   "cell_type": "markdown",
   "metadata": {},
   "source": [
    "万用模板"
   ]
  },
  {
   "cell_type": "code",
   "execution_count": 160,
   "metadata": {
    "collapsed": true
   },
   "outputs": [],
   "source": [
    "int[] general = new int[]{0,1,2,2,2,2,3,4,5,777,888};"
   ]
  },
  {
   "cell_type": "code",
   "execution_count": 190,
   "metadata": {},
   "outputs": [
    {
     "name": "stdout",
     "output_type": "stream",
     "text": [
      "[null] [0] [1] [2] [2] [2] [2] [3] [4] [5] [777] [888] [null] \n",
      "                                       ^   ^^                 \n",
      "                                       l   rp                 \n"
     ]
    },
    {
     "data": {
      "text/plain": [
       "9"
      ]
     },
     "execution_count": 190,
     "metadata": {},
     "output_type": "execute_result"
    }
   ],
   "source": [
    "binaryGeneralLeft(general, 711);"
   ]
  },
  {
   "cell_type": "code",
   "execution_count": 191,
   "metadata": {},
   "outputs": [
    {
     "name": "stdout",
     "output_type": "stream",
     "text": [
      "[null] [0] [1] [2] [2] [2] [2] [3] [4] [5] [777] [888] [null] \n",
      "                                       ^   ^^                 \n",
      "                                       l   rp                 \n"
     ]
    },
    {
     "data": {
      "text/plain": [
       "9"
      ]
     },
     "execution_count": 191,
     "metadata": {},
     "output_type": "execute_result"
    }
   ],
   "source": [
    "binaryGeneralRight(general,711);"
   ]
  },
  {
   "cell_type": "code",
   "execution_count": 182,
   "metadata": {
    "collapsed": true
   },
   "outputs": [],
   "source": [
    "public int binaryGeneralLeft(int[] nums, int target) {\n",
    "    if(nums.length < 1) return -1;\n",
    "    int left = 0;\n",
    "    int right = nums.length - 1;\n",
    "    int pivot = 0;\n",
    "    while(left < right - 1) {\n",
    "        pivot = left + (right - left)/2;\n",
    "        int num = nums[pivot];\n",
    "        if(num < target) {\n",
    "            left = pivot;\n",
    "        }else {\n",
    "            right = pivot;\n",
    "        }\n",
    "    }\n",
    "    \n",
    "    printBinary(nums, left, right ,pivot); \n",
    "    if(nums[right] < target){\n",
    "        return right;\n",
    "    }else if(nums[left] > target) {\n",
    "        return left;\n",
    "    }else {\n",
    "        return target - nums[left] < nums[right] - target ? left : right;\n",
    "    }\n",
    "    \n",
    "}\n",
    "\n",
    "public int binaryGeneralRight(int[] nums, int target) {\n",
    "    if(nums.length < 1) return -1;\n",
    "    int left = 0;\n",
    "    int right = nums.length - 1;\n",
    "    int pivot = 0;\n",
    "    while(left < right - 1) {\n",
    "        pivot = left + (right - left + 1)/2;\n",
    "        int num = nums[pivot];\n",
    "        if(num > target) {\n",
    "            right = pivot;\n",
    "        }else {\n",
    "            left = pivot;\n",
    "        }\n",
    "    }\n",
    "    \n",
    "    printBinary(nums, left, right ,pivot); \n",
    "    if(nums[right] < target){\n",
    "        return right;\n",
    "    }else if(nums[left] > target) {\n",
    "        return left;\n",
    "    }else {\n",
    "        return target - nums[left] < nums[right] - target ? left : right;\n",
    "    }\n",
    "    \n",
    "}"
   ]
  },
  {
   "cell_type": "code",
   "execution_count": null,
   "metadata": {
    "collapsed": true
   },
   "outputs": [],
   "source": []
  }
 ],
 "metadata": {
  "kernelspec": {
   "display_name": "Java",
   "language": "java",
   "name": "java"
  },
  "language_info": {
   "codemirror_mode": "java",
   "file_extension": ".jshell",
   "mimetype": "text/x-java-source",
   "name": "Java",
   "pygments_lexer": "java",
   "version": "12.0.1+12"
  }
 },
 "nbformat": 4,
 "nbformat_minor": 2
}
