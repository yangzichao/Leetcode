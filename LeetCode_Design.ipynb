{
 "cells": [
  {
   "cell_type": "markdown",
   "metadata": {},
   "source": [
    "## Design File System: 真的还挺难的 高频\n",
    "* [588: Design-In-Memory-File-System](https://leetcode.com/problems/design-in-memory-file-system/)     \n",
    " 核心是建立一个File 节点。最好可以区分自己是 file 还是 folder. "
   ]
  }
 ],
 "metadata": {
  "kernelspec": {
   "display_name": "Java",
   "language": "java",
   "name": "java"
  },
  "language_info": {
   "codemirror_mode": "java",
   "file_extension": ".jshell",
   "mimetype": "text/x-java-source",
   "name": "Java",
   "pygments_lexer": "java",
   "version": "12.0.1+12"
  }
 },
 "nbformat": 4,
 "nbformat_minor": 2
}
